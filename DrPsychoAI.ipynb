{
 "cells": [
  {
   "cell_type": "code",
   "execution_count": 12,
   "id": "be58e9c9-572c-4399-aa45-8367cdbd26b6",
   "metadata": {},
   "outputs": [],
   "source": [
    "import os\n",
    "import webbrowser\n",
    "import speech_recognition as sr\n",
    "import datetime\n",
    "import spacy\n"
   ]
  },
  {
   "cell_type": "code",
   "execution_count": 13,
   "id": "c2df80d0-258b-42b6-a984-80c7da9d2e7c",
   "metadata": {},
   "outputs": [],
   "source": [
    "# Load spaCy model\n",
    "nlp = spacy.load(\"en_core_web_sm\")\n",
    "\n",
    "STOP_LISTENING_COMMAND = \"stop listening\"\n",
    "SEARCH_COMMAND = \"search for\"\n",
    "WEATHER_COMMAND = \"weather report\"\n"
   ]
  },
  {
   "cell_type": "code",
   "execution_count": 14,
   "id": "ce82cf9a-6f0a-4e95-b56c-221aaeace122",
   "metadata": {},
   "outputs": [],
   "source": [
    "def say(text):\n",
    "    os.system(f'say \"{text}\"')\n",
    "\n",
    "def takeCommand():\n",
    "    r = sr.Recognizer()\n",
    "    with sr.Microphone() as source:\n",
    "        print(\"Listening...\")\n",
    "        audio = r.listen(source)\n",
    "        try:\n",
    "            print(\"Recognizing...\")\n",
    "            query = r.recognize_google(audio, language='en-IN')\n",
    "            print(f\"User said: {query}\")\n",
    "            return query\n",
    "        except Exception as e:\n",
    "            return \"I didn't get you. Can you try again?\"\n"
   ]
  },
  {
   "cell_type": "code",
   "execution_count": 15,
   "id": "4529f764-f4ba-4573-b60c-ddb4b0649630",
   "metadata": {},
   "outputs": [],
   "source": [
    "def analyze_command(query):\n",
    "    doc = nlp(query)\n",
    "    \n",
    "    for token in doc:\n",
    "        if token.text.lower() == \"hey\" or token.pos_ == \"doctor\":\n",
    "            return \"Hey! How may I help you?\"\n",
    "        if token.text.lower() in [\"sad\", \"happy\", \"fine\"]:\n",
    "            return \"I'm here to help! My day has been good so far. How about yours?\"\n",
    "\n",
    "    if \"sad\" in query.lower():\n",
    "        return \"I'm sorry to hear that you're feeling sad. How was your day?\"\n",
    "    if \"happy\" in query.lower():\n",
    "        return \"It's good to hear that you're happy! Could you tell me more about your day?\"\n",
    "    if \"fine\" in query.lower():\n",
    "        return \"It's good to hear that. Could you tell me more about your day?\"\n",
    "    if any(word in query.lower() for word in [\"joke\"]):\n",
    "        return \"What do you call a couple of chimpanzees sharing an Amazon account? PRIME-mates.\"\n",
    "    if any(word in query.lower() for word in [\"didn't\", \"incomplete\", \"cried\", \"fought\", \"breakup\"]):\n",
    "        return \"It sounds like it was a tough day. I agree, but there's always something to learn from challenges.\"\n",
    "    if any(word in query.lower() for word in [\"laughed\", \"enjoyed\", \"completed\", \"dance\"]):\n",
    "        return \"That sounds like a good day!\"\n",
    "    \n",
    "    return \"I'm here to assist you. Feel free to ask me.\"\n"
   ]
  },
  {
   "cell_type": "code",
   "execution_count": 16,
   "id": "55b4f710-22d0-466f-93b4-0f03f642bca2",
   "metadata": {},
   "outputs": [
    {
     "name": "stdout",
     "output_type": "stream",
     "text": [
      "Pycharm\n",
      "Speaking\n",
      "Listening...\n",
      "Recognizing...\n",
      "Executed mental_health!\n",
      "Listening...\n",
      "Recognizing...\n",
      "Executed mental_health!\n",
      "Listening...\n",
      "Recognizing...\n",
      "Executed mental_health!\n",
      "Listening...\n",
      "Recognizing...\n",
      "Executed mental_health!\n",
      "Listening...\n",
      "Recognizing...\n",
      "Executed mental_health!\n",
      "Listening...\n",
      "Recognizing...\n",
      "Executed mental_health!\n",
      "Listening...\n",
      "Recognizing...\n",
      "Executed mental_health!\n",
      "Listening...\n"
     ]
    },
    {
     "ename": "KeyboardInterrupt",
     "evalue": "",
     "output_type": "error",
     "traceback": [
      "\u001b[0;31m---------------------------------------------------------------------------\u001b[0m",
      "\u001b[0;31mKeyboardInterrupt\u001b[0m                         Traceback (most recent call last)",
      "Cell \u001b[0;32mIn[16], line 26\u001b[0m\n\u001b[1;32m     23\u001b[0m                 say(\u001b[38;5;124m\"\u001b[39m\u001b[38;5;124mOpening the weather report\u001b[39m\u001b[38;5;124m\"\u001b[39m)\n\u001b[1;32m     25\u001b[0m \u001b[38;5;28;01mif\u001b[39;00m \u001b[38;5;18m__name__\u001b[39m \u001b[38;5;241m==\u001b[39m \u001b[38;5;124m'\u001b[39m\u001b[38;5;124m__main__\u001b[39m\u001b[38;5;124m'\u001b[39m:\n\u001b[0;32m---> 26\u001b[0m     main()\n",
      "Cell \u001b[0;32mIn[16], line 6\u001b[0m, in \u001b[0;36mmain\u001b[0;34m()\u001b[0m\n\u001b[1;32m      4\u001b[0m \u001b[38;5;28mprint\u001b[39m(\u001b[38;5;124m\"\u001b[39m\u001b[38;5;124mSpeaking\u001b[39m\u001b[38;5;124m\"\u001b[39m)\n\u001b[1;32m      5\u001b[0m \u001b[38;5;28;01mwhile\u001b[39;00m \u001b[38;5;28;01mTrue\u001b[39;00m:\n\u001b[0;32m----> 6\u001b[0m     query \u001b[38;5;241m=\u001b[39m takeCommand()\n\u001b[1;32m      7\u001b[0m     \u001b[38;5;28;01mif\u001b[39;00m STOP_LISTENING_COMMAND \u001b[38;5;129;01min\u001b[39;00m query\u001b[38;5;241m.\u001b[39mlower():\n\u001b[1;32m      8\u001b[0m         say(\u001b[38;5;124m\"\u001b[39m\u001b[38;5;124mStopping listening. Goodbye!\u001b[39m\u001b[38;5;124m\"\u001b[39m)\n",
      "Cell \u001b[0;32mIn[14], line 8\u001b[0m, in \u001b[0;36mtakeCommand\u001b[0;34m()\u001b[0m\n\u001b[1;32m      6\u001b[0m \u001b[38;5;28;01mwith\u001b[39;00m sr\u001b[38;5;241m.\u001b[39mMicrophone() \u001b[38;5;28;01mas\u001b[39;00m source:\n\u001b[1;32m      7\u001b[0m     \u001b[38;5;28mprint\u001b[39m(\u001b[38;5;124m\"\u001b[39m\u001b[38;5;124mListening...\u001b[39m\u001b[38;5;124m\"\u001b[39m)\n\u001b[0;32m----> 8\u001b[0m     audio \u001b[38;5;241m=\u001b[39m r\u001b[38;5;241m.\u001b[39mlisten(source)\n\u001b[1;32m      9\u001b[0m     \u001b[38;5;28;01mtry\u001b[39;00m:\n\u001b[1;32m     10\u001b[0m         \u001b[38;5;28mprint\u001b[39m(\u001b[38;5;124m\"\u001b[39m\u001b[38;5;124mRecognizing...\u001b[39m\u001b[38;5;124m\"\u001b[39m)\n",
      "File \u001b[0;32m/opt/anaconda3/lib/python3.11/site-packages/speech_recognition/__init__.py:523\u001b[0m, in \u001b[0;36mRecognizer.listen\u001b[0;34m(self, source, timeout, phrase_time_limit, snowboy_configuration)\u001b[0m\n\u001b[1;32m    520\u001b[0m \u001b[38;5;28;01mif\u001b[39;00m phrase_time_limit \u001b[38;5;129;01mand\u001b[39;00m elapsed_time \u001b[38;5;241m-\u001b[39m phrase_start_time \u001b[38;5;241m>\u001b[39m phrase_time_limit:\n\u001b[1;32m    521\u001b[0m     \u001b[38;5;28;01mbreak\u001b[39;00m\n\u001b[0;32m--> 523\u001b[0m buffer \u001b[38;5;241m=\u001b[39m source\u001b[38;5;241m.\u001b[39mstream\u001b[38;5;241m.\u001b[39mread(source\u001b[38;5;241m.\u001b[39mCHUNK)\n\u001b[1;32m    524\u001b[0m \u001b[38;5;28;01mif\u001b[39;00m \u001b[38;5;28mlen\u001b[39m(buffer) \u001b[38;5;241m==\u001b[39m \u001b[38;5;241m0\u001b[39m: \u001b[38;5;28;01mbreak\u001b[39;00m  \u001b[38;5;66;03m# reached end of the stream\u001b[39;00m\n\u001b[1;32m    525\u001b[0m frames\u001b[38;5;241m.\u001b[39mappend(buffer)\n",
      "File \u001b[0;32m/opt/anaconda3/lib/python3.11/site-packages/speech_recognition/__init__.py:199\u001b[0m, in \u001b[0;36mMicrophone.MicrophoneStream.read\u001b[0;34m(self, size)\u001b[0m\n\u001b[1;32m    198\u001b[0m \u001b[38;5;28;01mdef\u001b[39;00m \u001b[38;5;21mread\u001b[39m(\u001b[38;5;28mself\u001b[39m, size):\n\u001b[0;32m--> 199\u001b[0m     \u001b[38;5;28;01mreturn\u001b[39;00m \u001b[38;5;28mself\u001b[39m\u001b[38;5;241m.\u001b[39mpyaudio_stream\u001b[38;5;241m.\u001b[39mread(size, exception_on_overflow\u001b[38;5;241m=\u001b[39m\u001b[38;5;28;01mFalse\u001b[39;00m)\n",
      "File \u001b[0;32m/opt/anaconda3/lib/python3.11/site-packages/pyaudio/__init__.py:570\u001b[0m, in \u001b[0;36mPyAudio.Stream.read\u001b[0;34m(self, num_frames, exception_on_overflow)\u001b[0m\n\u001b[1;32m    567\u001b[0m \u001b[38;5;28;01mif\u001b[39;00m \u001b[38;5;129;01mnot\u001b[39;00m \u001b[38;5;28mself\u001b[39m\u001b[38;5;241m.\u001b[39m_is_input:\n\u001b[1;32m    568\u001b[0m     \u001b[38;5;28;01mraise\u001b[39;00m \u001b[38;5;167;01mIOError\u001b[39;00m(\u001b[38;5;124m\"\u001b[39m\u001b[38;5;124mNot input stream\u001b[39m\u001b[38;5;124m\"\u001b[39m,\n\u001b[1;32m    569\u001b[0m                   paCanNotReadFromAnOutputOnlyStream)\n\u001b[0;32m--> 570\u001b[0m \u001b[38;5;28;01mreturn\u001b[39;00m pa\u001b[38;5;241m.\u001b[39mread_stream(\u001b[38;5;28mself\u001b[39m\u001b[38;5;241m.\u001b[39m_stream, num_frames,\n\u001b[1;32m    571\u001b[0m                       exception_on_overflow)\n",
      "\u001b[0;31mKeyboardInterrupt\u001b[0m: "
     ]
    }
   ],
   "source": [
    "def main():\n",
    "    print('Pycharm')\n",
    "    say(\"Hello, I am Dr.Psycho A.I\")\n",
    "    print(\"Speaking\")\n",
    "    while True:\n",
    "        query = takeCommand()\n",
    "        if STOP_LISTENING_COMMAND in query.lower():\n",
    "            say(\"Stopping listening. Goodbye!\")\n",
    "            break\n",
    "\n",
    "        mental_health_response = analyze_command(query)\n",
    "        if mental_health_response:\n",
    "            say(mental_health_response)\n",
    "            print(\"Executed mental_health!\")\n",
    "        else:\n",
    "            if SEARCH_COMMAND in query.lower():\n",
    "                search_query = query.lower().replace(SEARCH_COMMAND, \"\").strip()\n",
    "                webbrowser.open(f\"https://www.google.com/search?q={search_query}\")\n",
    "                say(f\"Searching for {search_query}\")\n",
    "\n",
    "            if WEATHER_COMMAND in query.lower():\n",
    "                webbrowser.open(\"https://www.weather.com/\")\n",
    "                say(\"Opening the weather report\")\n",
    "\n",
    "if __name__ == '__main__':\n",
    "    main()\n"
   ]
  },
  {
   "cell_type": "code",
   "execution_count": null,
   "id": "e40a58dc-0dd5-41b3-9f0f-22d34c42a435",
   "metadata": {},
   "outputs": [],
   "source": []
  }
 ],
 "metadata": {
  "kernelspec": {
   "display_name": "Python 3 (ipykernel)",
   "language": "python",
   "name": "python3"
  },
  "language_info": {
   "codemirror_mode": {
    "name": "ipython",
    "version": 3
   },
   "file_extension": ".py",
   "mimetype": "text/x-python",
   "name": "python",
   "nbconvert_exporter": "python",
   "pygments_lexer": "ipython3",
   "version": "3.11.7"
  }
 },
 "nbformat": 4,
 "nbformat_minor": 5
}
